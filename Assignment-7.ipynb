{
 "cells": [
  {
   "cell_type": "markdown",
   "metadata": {},
   "source": [
    "# Bioinformatics Lab class assignment 11/09/2020"
   ]
  },
  {
   "cell_type": "markdown",
   "metadata": {},
   "source": [
    "# Assignment-7"
   ]
  },
  {
   "cell_type": "markdown",
   "metadata": {},
   "source": [
    "# Problem 1. Construct 10 \"nt\" random sequences each of size 20."
   ]
  },
  {
   "cell_type": "code",
   "execution_count": 13,
   "metadata": {},
   "outputs": [],
   "source": [
    "import numpy as np\n",
    "from Bio import Align\n",
    "import random\n",
    "from Bio import SeqIO"
   ]
  },
  {
   "cell_type": "code",
   "execution_count": 14,
   "metadata": {},
   "outputs": [],
   "source": [
    "def seq(n):\n",
    "    lst = list([\"A\",\"T\",\"G\",\"C\"]) \n",
    "    String= \"\".join(random.choice(lst) for i in range(n))\n",
    "    return String\n",
    "list_seq=[]\n",
    "list_name=[]\n",
    "for i in range(10):\n",
    "    list_seq.append(seq(20))\n",
    "    list_name.append('seq'+str(i+1))"
   ]
  },
  {
   "cell_type": "code",
   "execution_count": 15,
   "metadata": {},
   "outputs": [
    {
     "name": "stdout",
     "output_type": "stream",
     "text": [
      "Seq('ACATGGTGACTGACATGCGG', SingleLetterAlphabet())\n",
      "Seq('TGGAGGAATAAAAGTACGTC', SingleLetterAlphabet())\n",
      "Seq('CTAAAATGCAACGACTGCAT', SingleLetterAlphabet())\n",
      "Seq('TAATGTTACTACACCGTGTT', SingleLetterAlphabet())\n",
      "Seq('CCTCGGGAGCCCTCGTACTA', SingleLetterAlphabet())\n",
      "Seq('CGCGTATGTCCTGCCTTGAC', SingleLetterAlphabet())\n",
      "Seq('CATTAGTTAAGGACGCAGTA', SingleLetterAlphabet())\n",
      "Seq('GATGCCAATTAGGTTGCTCC', SingleLetterAlphabet())\n",
      "Seq('TTTTGGACGGTAAGCAGGCG', SingleLetterAlphabet())\n",
      "Seq('TTTCTCTCAGGGGCGCCGGC', SingleLetterAlphabet())\n"
     ]
    }
   ],
   "source": [
    "dic=dict(zip(list_name,list_seq))\n",
    "dic\n",
    "\n",
    "ofile = open('my_sequences.fasta', \"w\")\n",
    "for i in range(len(list_seq)):\n",
    "    ofile.write(\">\" + list_name[i] + \"\\n\" +list_seq[i] + \"\\n\")\n",
    "ofile.close()\n",
    "\n",
    "for seq_record in SeqIO.parse('my_sequences.fasta', \"fasta\"):\n",
    "    print(repr(seq_record.seq))"
   ]
  },
  {
   "cell_type": "markdown",
   "metadata": {},
   "source": [
    "# Problem-2.  align these sequences using the program ClustalW"
   ]
  },
  {
   "cell_type": "code",
   "execution_count": 16,
   "metadata": {},
   "outputs": [
    {
     "name": "stdout",
     "output_type": "stream",
     "text": [
      "/home/ritesh/Documents/Bioinformatics/Biopython/clustalw2 -infile=my_sequences.fasta\n"
     ]
    }
   ],
   "source": [
    "import os\n",
    "from Bio.Align.Applications import ClustalwCommandline\n",
    "\n",
    "#download exe from http://clustal.org/download/current/\n",
    "clustalw_exe = \"/home/ritesh/Documents/Bioinformatics/Biopython/clustalw2\"\n",
    "clustalw_cline = ClustalwCommandline(clustalw_exe, infile='my_sequences.fasta')\n",
    "print(clustalw_cline)"
   ]
  },
  {
   "cell_type": "code",
   "execution_count": 17,
   "metadata": {},
   "outputs": [],
   "source": [
    "import os\n",
    "assert os.path.isfile(clustalw_exe), \"Clustal W executable missing\"\n",
    "stdout, stderr = clustalw_cline()"
   ]
  },
  {
   "cell_type": "code",
   "execution_count": 18,
   "metadata": {},
   "outputs": [
    {
     "name": "stdout",
     "output_type": "stream",
     "text": [
      "SingleLetterAlphabet() alignment with 10 rows and 27 columns\n",
      "-CTAAAATGCAACGACTGCAT------ seq3\n",
      "----TAATGTTACTACACCGTGTT--- seq4\n",
      "---ACATGGTGACTGACATGCGG---- seq1\n",
      "-------CCTCGGGAGCCCTCGTACTA seq5\n",
      "---TTTCTCTCAGGGGCGCCGGC---- seq10\n",
      "---CATTAGTTAAGGACGC-AGTA--- seq7\n",
      "-----GATGCCAATTAGGTTGCTCC-- seq8\n",
      "TTTTGGACGGTAAGCAGGCG------- seq9\n",
      "----TGGAGGAATAAAAGTACGTC--- seq2\n",
      "-----CGCGTATGTCCTGCCTTGAC-- seq6\n"
     ]
    }
   ],
   "source": [
    "from Bio import AlignIO\n",
    "align = AlignIO.read(\"my_sequences.aln\", \"clustal\")\n",
    "print(align)"
   ]
  },
  {
   "cell_type": "markdown",
   "metadata": {},
   "source": [
    "# Problem-3. write a code for UPGMA to construct a phylogenetic tree (newwick format) using the clustalW outcome."
   ]
  },
  {
   "cell_type": "code",
   "execution_count": 19,
   "metadata": {},
   "outputs": [
    {
     "data": {
      "image/png": "[encoded data removed]",
      "text/plain": [
       "<Figure size 432x288 with 1 Axes>"
      ]
     },
     "metadata": {
      "needs_background": "light"
     },
     "output_type": "display_data"
    }
   ],
   "source": [
    "from Bio import Phylo\n",
    "tree = Phylo.read(\"my_sequences.dnd\", \"newick\")\n",
    "tree.rooted=True\n",
    "Phylo.draw(tree)"
   ]
  }
 ],
 "metadata": {
  "kernelspec": {
   "display_name": "Python 3",
   "language": "python",
   "name": "python3"
  },
  "language_info": {
   "codemirror_mode": {
    "name": "ipython",
    "version": 3
   },
   "file_extension": ".py",
   "mimetype": "text/x-python",
   "name": "python",
   "nbconvert_exporter": "python",
   "pygments_lexer": "ipython3",
   "version": "3.7.8"
  }
 },
 "nbformat": 4,
 "nbformat_minor": 4
}
